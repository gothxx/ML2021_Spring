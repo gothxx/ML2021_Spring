{
  "nbformat": 4,
  "nbformat_minor": 0,
  "metadata": {
    "colab": {
      "name": "Hung_Yi_Lee_ML2021_Spring_hw3.ipynb",
      "provenance": [],
      "collapsed_sections": [],
      "authorship_tag": "ABX9TyPLOJj+xgO9OMY0omq4Ay0N",
      "include_colab_link": true
    },
    "kernelspec": {
      "name": "python3",
      "display_name": "Python 3"
    },
    "language_info": {
      "name": "python"
    },
    "accelerator": "GPU"
  },
  "cells": [
    {
      "cell_type": "markdown",
      "metadata": {
        "id": "view-in-github",
        "colab_type": "text"
      },
      "source": [
        "<a href=\"https://colab.research.google.com/github/gothxx/ML2021_Spring/blob/master/Hung_Yi_Lee_ML2021_Spring_hw3.ipynb\" target=\"_parent\"><img src=\"https://colab.research.google.com/assets/colab-badge.svg\" alt=\"Open In Colab\"/></a>"
      ]
    },
    {
      "cell_type": "code",
      "source": [
        "!gdown --id '1awF7pZ9Dz7X1jn1_QAiKN-_v56veCEKy' --output food-11.zip\n",
        "\n",
        "!unzip -q food-11.zip\n",
        "\n"
      ],
      "metadata": {
        "colab": {
          "base_uri": "https://localhost:8080/"
        },
        "id": "8kdICOUiJBCV",
        "outputId": "855563d7-f96b-4e55-96b9-bc5d139b6cc5"
      },
      "execution_count": 2,
      "outputs": [
        {
          "output_type": "stream",
          "name": "stdout",
          "text": [
            "Downloading...\n",
            "From: https://drive.google.com/uc?id=1awF7pZ9Dz7X1jn1_QAiKN-_v56veCEKy\n",
            "To: /content/food-11.zip\n",
            "100% 963M/963M [00:06<00:00, 156MB/s]\n"
          ]
        }
      ]
    },
    {
      "cell_type": "code",
      "execution_count": 12,
      "metadata": {
        "id": "xzLiahV6nP8C"
      },
      "outputs": [],
      "source": [
        "import numpy as np\n",
        "import torch\n",
        "import torch.nn as nn\n",
        "import torchvision.transforms as transforms\n",
        "from PIL import Image\n",
        "#\"ConcatDataset\" and \"Subset\" are possibly useful when doing semi-supervised learning.\n",
        "from torch.utils.data import ConcatDataset, DataLoader, Subset\n",
        "from torchvision.datasets import DatasetFolder\n",
        "\n",
        "#This is for the progress bar.\n",
        "from tqdm.auto import tqdm\n",
        "\n",
        "import time\n",
        "import matplotlib.pyplot as plt\n",
        "\n"
      ]
    },
    {
      "cell_type": "code",
      "source": [
        "#It is important to do data augmentation in training.\n",
        "#However, not every augmentation is useful.\n",
        "#Please thin about what kind of augmentation is helpful for food recognition.\n",
        "\n",
        "train_tfm = transforms.Compose([\n",
        "    #Resize the image into a fixed shape (height = width = 128) \n",
        "    transforms.Resize((128, 128)),\n",
        "    #You may add some transforms here.\n",
        "    # toTensor() should be the last one of the transforms.\n",
        "    transforms.ToTensor() ,                        \n",
        "])\n",
        "# We don't need augmentations in testing and validation.\n",
        "# All we need here is to resize the PIL image and transform it into Tensor\n",
        "\n",
        "test_tfm = transforms.Compose([\n",
        "  transforms.Resize((128,128)),\n",
        "  transforms.ToTensor(),\n",
        "])\n"
      ],
      "metadata": {
        "id": "TKM82jyrpBQ8"
      },
      "execution_count": 4,
      "outputs": []
    },
    {
      "cell_type": "code",
      "source": [
        "# Batch size for training, validation, and testing\n",
        "# A greater batch size usually gives a more table gradient.\n",
        "# But the GPU memory is limited, so please adjust it carefully.\n",
        "\n",
        "batch_size = 16\n",
        "\n",
        "# Construct datesets.\n",
        "# The argument \"loader\" tells how torchvision reads the data.\n",
        "\n",
        "train_set = DatasetFolder(\"food-11/training/labeled\", loader=lambda x: Image.open(x), extensions=\"jpg\", transform=train_tfm)\n",
        "valid_set = DatasetFolder(\"food-11/validation\", loader=lambda x: Image.open(x), extensions=\"jpg\", transform=test_tfm)\n",
        "unlabelded_set = DatasetFolder(\"food-11/training/unlabeled\", loader=lambda x: Image.open(x), extensions=\"jpg\", transform=train_tfm)\n",
        "test_set = DatasetFolder(\"food-11/testing\", loader=lambda x: Image.open(x), extensions=\"jpg\", transform=test_tfm)\n",
        "\n"
      ],
      "metadata": {
        "id": "sn9-EJKiqupA"
      },
      "execution_count": 5,
      "outputs": []
    },
    {
      "cell_type": "code",
      "source": [
        "train_loader = DataLoader(train_set, batch_size=batch_size, shuffle=True, num_workers=2, pin_memory=True)\n",
        "valid_loader = DataLoader(valid_set, batch_size=batch_size, shuffle=True, num_workers=2, pin_memory=True)\n",
        "test_loader = DataLoader(test_set, batch_size=batch_size, shuffle=True, num_workers=2, pin_memory=True)\n",
        "\n"
      ],
      "metadata": {
        "colab": {
          "base_uri": "https://localhost:8080/"
        },
        "id": "pDUgr8joK8A_",
        "outputId": "45da39cb-6230-4b96-9e30-beb73effd145"
      },
      "execution_count": 8,
      "outputs": [
        {
          "output_type": "stream",
          "name": "stderr",
          "text": [
            "/usr/local/lib/python3.7/dist-packages/torch/utils/data/dataloader.py:481: UserWarning: This DataLoader will create 4 worker processes in total. Our suggested max number of worker in current system is 2, which is smaller than what this DataLoader is going to create. Please be aware that excessive worker creation might get DataLoader running slow or even freeze, lower the worker number to avoid potential slowness/freeze if necessary.\n",
            "  cpuset_checked))\n"
          ]
        }
      ]
    },
    {
      "cell_type": "code",
      "source": [
        "# get some random training images\n",
        "\n",
        "dataiter = iter(train_loader)\n",
        "images, labels = dataiter.next()\n",
        "\n",
        "import matplotlib\n",
        "import matplotlib.pyplot as plt\n",
        "import matplotlib.image as mpimg\n",
        "\n",
        "def matplotlib_imshow(img, one_channel = False):\n",
        "  npimg = img.numpy()\n",
        "  if one_channel:\n",
        "    plt.imshow(npimg, cmap=\"Greys\")\n",
        "  else:\n",
        "    plt.imshow(np.transpose(npimg, (1, 2, 0)))\n",
        "\n",
        "import torchvision\n",
        "\n",
        "#create grid of images\n",
        "img_grid = torchvision.utils.make_grid(images[0:8])\n",
        "\n",
        "#show images\n",
        "matplotlib_imshow(img_grid, one_channel=False)\n",
        "\n",
        "\n",
        "\n",
        "\n",
        "\n",
        "\n",
        "\n"
      ],
      "metadata": {
        "id": "Bs_Zi90jtsb9",
        "colab": {
          "base_uri": "https://localhost:8080/",
          "height": 149
        },
        "outputId": "7c449073-b3dd-4a58-cbe4-2722b338026b"
      },
      "execution_count": 9,
      "outputs": [
        {
          "output_type": "stream",
          "name": "stderr",
          "text": [
            "/usr/local/lib/python3.7/dist-packages/torch/utils/data/dataloader.py:481: UserWarning: This DataLoader will create 4 worker processes in total. Our suggested max number of worker in current system is 2, which is smaller than what this DataLoader is going to create. Please be aware that excessive worker creation might get DataLoader running slow or even freeze, lower the worker number to avoid potential slowness/freeze if necessary.\n",
            "  cpuset_checked))\n"
          ]
        },
        {
          "output_type": "display_data",
          "data": {
            "image/png": "[encoded data removed]",
            "text/plain": [
              "<Figure size 432x288 with 1 Axes>"
            ]
          },
          "metadata": {
            "needs_background": "light"
          }
        }
      ]
    },
    {
      "cell_type": "code",
      "source": [
        "\n",
        "class Classifier(nn.Module):\n",
        "  def __init__(self):\n",
        "    super(Classifier, self).__init__()\n",
        "\n",
        "    #The arguments for commonly used modules;\n",
        "    #torch.nn.Conv2d(in_channels, out_channels, kernel_size, stride, padding)\n",
        "    #torch.nn.MaxPool2d(kernel_size, stride, padding)\n",
        "\n",
        "    #input image size: [3, 128, 128]\n",
        "    self.cnn_layers = nn.Sequential(\n",
        "        nn.Conv2d(3, 64, 3, 1, 1),\n",
        "        nn.BatchNorm2d(64),\n",
        "        nn.ReLU(),\n",
        "        nn.MaxPool2d(2, 2, 0),\n",
        "\n",
        "        nn.Conv2d(64, 128, 3, 1, 1),\n",
        "        nn.BatchNorm2d(128),\n",
        "        nn.ReLU(),\n",
        "        nn.MaxPool2d(2, 2, 0),\n",
        "\n",
        "        nn.Conv2d(128, 256, 3, 1, 1),\n",
        "        nn.BatchNorm2d(256),\n",
        "        nn.ReLU(),\n",
        "        nn.MaxPool2d(4, 4, 0),\n",
        "    )\n",
        "\n",
        "    self.fc_layers = nn.Sequential(\n",
        "        nn.Linear(256 * 8 * 8, 256),\n",
        "        nn.ReLU(),\n",
        "        nn.Linear(256, 256),\n",
        "        nn.ReLU(),\n",
        "        nn.Linear(256, 11)\n",
        "    )\n",
        "\n",
        "  def forward(self, x):\n",
        "    # input (x): [batch_size, 3, 128, 128]\n",
        "    # output: [batch_size, 11]\n",
        "\n",
        "    #Extract features by convolutional layers.\n",
        "    x = self.cnn_layers(x)\n",
        "\n",
        "    #The extracted feature map must be flatten before going to fully-connected layers.\n",
        "    x = x.flatten(x)\n",
        "\n",
        "    #The features are transformed by fully-connected layers to obtain the final logits\n",
        "    x = self.fc_layers(x)\n",
        "\n",
        "    return x\n",
        "\n",
        "    "
      ],
      "metadata": {
        "id": "COU6v3BeKUsT"
      },
      "execution_count": 13,
      "outputs": []
    },
    {
      "cell_type": "code",
      "source": [
        "def get_pseudo_label(dataset, model, threshold=0.65):\n",
        "  # This functions generates pseudo-labels of a dataset using given model.\n",
        "  # It returns an instance of DatasetFolder containing images whose prediction confidences exceed a given threshold.\n",
        "  # You are NOT allowed to use ana models trained on external data for pseudo-labeling.\n",
        "\n",
        "  dev = \"cuda\" if torch.cuda.is_available() else \"cpu\"\n",
        "\n",
        "  # construct a data loader.\n",
        "  data_loader = DataLoader(dataset, batch_size=batch_size, shuffle=False)\n",
        "\n",
        "  # Make sure the model is in eval mode.\n",
        "  model.eval()\n",
        "\n",
        "  # define softmax function.\n",
        "  softmax = nn.Softmax(dim=-1)\n",
        "\n",
        "  # Iterate over the dataset by batches.\n",
        "  for batch in tqdm(data_loader):\n",
        "    img, _ = batch\n",
        "\n",
        "    # Forwad the data\n",
        "    # Using torch.no_grad() accelerates the forward process.\n",
        "    with torch.no_grad():\n",
        "      logits = model(img.to(device))\n",
        "      \n",
        "      # Obtain the probability distributions by applying softmax on logits.\n",
        "      probs = softmax(logits)\n",
        "\n",
        "\n",
        "      # ----------------- TODO ---------------------\n",
        "      #Filter the data and construct a new dataset.\n",
        "\n",
        "  ## Turn off the eval mode.\n",
        "  model.train()\n",
        "  return dataset \n",
        "\n",
        "        "
      ],
      "metadata": {
        "id": "zuMIRxKVN-nf"
      },
      "execution_count": 14,
      "outputs": []
    },
    {
      "cell_type": "code",
      "source": [
        "# \"cuda\" only when GPUs are available \n",
        "device = \"cuda\" if torch.cuda.is_available() else \"cpu\"\n",
        "\n",
        "# Initialize a model, and put it on the device specified.\n",
        "model = Classifier().to(device)\n",
        "model.device = device\n",
        "\n",
        "# For the classification task, we use cross-entropy as the measurement of performance.\n",
        "criterion = n.CrossEntropyLoss()\n",
        "\n",
        "# Initialize optimizer, you may fine-tune some hyperparameters such as learning rate on your own.\n",
        "optimizer = torch.optim.Adam(model.parameters(), lr=0.0003, weight_decay=1e-5)\n",
        "\n",
        "# The number of training epochs.\n",
        "n_epochs = 20\n",
        "\n",
        "# Whether to do semi-supervised learning.\n",
        "\n",
        "do_semi = False\n",
        "best_acc = 0.0\n",
        "tarin_loss_recore = []\n",
        "valid_loss_record = []\n",
        "train_acc_recore = []\n",
        "valid_acc_record = []\n",
        "\n",
        "for epoch in range(n_epochs):\n",
        "  # ----------- TODO -------------\n",
        "  # In each epoch, relabel the unlabeled dataset for semi-supervised learning.\n",
        "  # Then you can combine the labeled dataset and pseudo-labeled dataset for the training.\n",
        "\n",
        "  if do_semi:\n",
        "    # Obtain pseudo-labels for unlabeled data using trained model.\n",
        "    pseudo_set = get_pseudo_labels(unlabeled_set, model)\n",
        "\n",
        "    # Construct a new dataset and a data loader for training.\n",
        "    # This is used in semi-supervised learning only.\n",
        "    concat_dataset = ConcatDataset([tarin_set, pseudo_set])\n",
        "    train_loader = DataLoader(concat_dataset, batch_size=batch_size, shuffle=True, num_workers=2, pin_Memory=True)\n",
        "\n",
        "  #----------------------- Training --------------------------\n",
        "  # Make sure the model is in train mode before training.\n",
        "\n",
        "  model.train()\n",
        "\n",
        "  # These are used to record information in training.\n",
        "  train_loss = []\n",
        "  train_accs = []\n",
        "\n",
        "  # Iterate the training set by batches.\n",
        "  for batch in tqdm(train_loader):\n",
        "\n",
        "    # A batch consists of image data and corresponding labels.\n",
        "    imgs, labels = batch\n",
        "\n",
        "    # Forward the data. (Make sure data and model are on the same device.)\n",
        "    logits = model(imgs.to(deivce))\n",
        "\n",
        "    # Calculate the cross-entropy loss.\n",
        "    # We don't need to apply softmax before computing cross-entropy as it is done automatically.\n",
        "    loss = criterion(logits, labels.to(device))\n",
        "\n",
        "    # Clip the gradient norms for stable training.\n",
        "    grad_norm = nn.utils.clip_grad_norm_(model.parameters(), max_norm=10)\n",
        "\n",
        "    # Update the parameters with computed gradients.\n",
        "    optimizer.step()\n",
        "\n",
        "    # Compute the accuracy for current batch.\n",
        "    acc = (logits.argmax(dim=-1) == labels.to(device)).float().mean()\n",
        "\n",
        "    # Record the loss and accuracy.\n",
        "    train_loss.append(loss.item())\n",
        "    train_accs.append(acc)\n",
        "\n",
        "  # The average loss and accuracy of the training set is the average of the recorded values.\n",
        "  train_los = sum(train_loss) / len(train_loss)\n",
        "  train_acc = sum(train_accs) / len(train_accs)\n",
        "\n",
        "  # Print the information.\n",
        "  print(f\"\"\"[{time.strftime(\"%Y-%m-%d %H:%M:%s\", time.localtime())}] [ Train | {epoch + 1:03d}/{n_epcohs:03d} ] loss = {train_los:.5f}, acc = {train_acc:.5f}\"\"\")\n",
        "\n",
        "  # ----------------- validation -------------------------\n",
        "  # Make sure the model is in eval mode so that some modules like dropout are disabled and work normally.\n",
        "  model.eval()\n",
        "\n",
        "  # These are used to record information in validation.\n",
        "  valid_loss = []\n",
        "  valid_accs = []\n",
        "\n",
        "  # Iterate the validation set by batches.\n",
        "  for batch in tqdm(valid_loader):\n",
        "\n",
        "    # A batch consists of image data and corresponding labels.\n",
        "    imgs, labels = batch\n",
        "\n",
        "    # We don't need gradient in validation.\n",
        "    # Using torch.no_grad() to accelerates the forward process.\n",
        "\n",
        "    with torch.no_grad():\n",
        "      logits = model(imgs.to(device))\n",
        "\n",
        "    # We cat still compute the loss (but not the gradient).\n",
        "    loss = criterion(logits, labels.to(device))\n",
        "\n",
        "    # Compute the accuracy for current batch.\n",
        "    acc = (logits.argmax(dim=-1) == labels.to(device)).float().mean()\n",
        "\n",
        "    # Record the loss and accuracy.\n",
        "    valid_loss.append(loss.item())\n",
        "    valid_accs.append(acc)\n",
        "\n",
        "  # The average loss and accuracy for entire validation set is the average of the recorded values.\n",
        "  valid_los = sum(valid_loss) / len(valid_loss)\n",
        "  valid_acc = sum(valid_accs) / len(valid_accs)\n",
        "\n",
        "  # Print the information.\n",
        "  print(f\"\"\"[{time.strftime(\"%Y-%m-%d %H:%M:%s\", time.localtime())}] [ Valid | {epoch + 1:03d}/{n_epochs:03d} ] loss = {valid_los:.5f}, acc = {valid_acc:.5f}\"\"\")\n",
        "\n",
        "    # ------------------ Record -----------------\n",
        "  if valid_acc > best_acc :\n",
        "    best_acc = valid_acc\n",
        "    torch.save(model.state_dict(), model_path)\n",
        "\n",
        "  train_loss_record.append(train_los)\n",
        "  valid_loss_record.append(valid_los)\n",
        "  train_acc_record.append(train_acc)\n",
        "  valid_acc_record.append(valid_acc)\n",
        "\n",
        "  \n",
        "  \n"
      ],
      "metadata": {
        "id": "LqFoj-1maget"
      },
      "execution_count": null,
      "outputs": []
    },
    {
      "cell_type": "code",
      "source": [
        "\n",
        "x = np.arrange(len(train_acc_record))\n",
        "plt.plot(x, train_acc_record, color = \"blue\", label = \"Train\")\n",
        "plt.plot(x, valid_acc_record, color = \"red\", label = \"Valid\")\n",
        "plt.legend(loc=\"upper right\")\n",
        "plt.show()\n"
      ],
      "metadata": {
        "id": "4OB-vOzssfaz"
      },
      "execution_count": null,
      "outputs": []
    },
    {
      "cell_type": "code",
      "source": [
        "x = np.arrange(len(train_acc_record))\n",
        "plt.plot(x, train_loss_record, color = \"blue\", label = \"Train\")\n",
        "plt.plot(x, valid_loss_record, color = \"red\", label = \"Valid\")\n",
        "plt.legend(loc=\"upper right\")\n",
        "plt.show()\n"
      ],
      "metadata": {
        "id": "PaXvJCwUtQns"
      },
      "execution_count": null,
      "outputs": []
    },
    {
      "cell_type": "code",
      "source": [
        "model.eval()\n",
        "\n",
        "predictions = []\n",
        "\n",
        "for batch in test_loader:\n",
        "  imgs, labels = batch\n",
        "  \n",
        "  with torch.no_grad():\n",
        "    logits = model(imgs.to(device))\n",
        "\n",
        "  predictions.extend(logits.argmax(dim=-1).cpu().numpy().tolist())\n",
        "\n",
        "\n",
        "with open(\"predict.csv\", \"w\") as f:\n",
        "  f.write(\"Id,Category\\n\")\n",
        "\n",
        "  for i, pred in enumerate(predictions):\n",
        "    f.write(f\"{i},{pred}\\n\")\n",
        "      "
      ],
      "metadata": {
        "id": "3oiY-_LNtagn"
      },
      "execution_count": null,
      "outputs": []
    }
  ]
}